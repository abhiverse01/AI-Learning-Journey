{
  "nbformat": 4,
  "nbformat_minor": 0,
  "metadata": {
    "colab": {
      "provenance": [],
      "authorship_tag": "ABX9TyNbfyV3CavPy/SJiApDat83",
      "include_colab_link": true
    },
    "kernelspec": {
      "name": "python3",
      "display_name": "Python 3"
    },
    "language_info": {
      "name": "python"
    }
  },
  "cells": [
    {
      "cell_type": "markdown",
      "metadata": {
        "id": "view-in-github",
        "colab_type": "text"
      },
      "source": [
        "<a href=\"https://colab.research.google.com/github/abhiverse01/AI-Learning-Journey/blob/main/AI_Learning_Journey_Introduction_Notebook.ipynb\" target=\"_parent\"><img src=\"https://colab.research.google.com/assets/colab-badge.svg\" alt=\"Open In Colab\"/></a>"
      ]
    },
    {
      "cell_type": "markdown",
      "source": [
        "# AI-Learning-Journey.\n",
        "\n",
        "This repository is a collection of all the resources, coding assessments, projects, that I worked on while on my journey of learing AI. The course is quite deep and the repository is still being progressed. However, just like other repositories, I promise to update it with all the possible best content. I believe it can work as an effective resource for anyone wishing to start their AI-learning career path or else just want to have a look at it as a refresher AI course. Hope this notebook works like charm for you.\n",
        "\n",
        "Happy Coding!\n",
        "\n",
        "**Owned by: Abhishek Shah**\n",
        "\n",
        "**Mail me at:** www.abhishekshah007@gmail.com\n",
        "\n",
        "**GitHub:** https://www.github.com/abhiverse01/\n",
        "\n",
        "**Resume:** https://abhiverse01.github.io/abhishekshahhtmlresume/"
      ],
      "metadata": {
        "id": "KAkqleAociVD"
      }
    },
    {
      "cell_type": "code",
      "execution_count": null,
      "metadata": {
        "id": "AKTztC4tceKc"
      },
      "outputs": [],
      "source": []
    }
  ]
}