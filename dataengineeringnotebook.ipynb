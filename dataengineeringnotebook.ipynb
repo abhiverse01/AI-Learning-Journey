{
  "nbformat": 4,
  "nbformat_minor": 0,
  "metadata": {
    "colab": {
      "provenance": [],
      "authorship_tag": "ABX9TyO0YjWWkWoVJM3ZaprBYFAA",
      "include_colab_link": true
    },
    "kernelspec": {
      "name": "python3",
      "display_name": "Python 3"
    },
    "language_info": {
      "name": "python"
    }
  },
  "cells": [
    {
      "cell_type": "markdown",
      "metadata": {
        "id": "view-in-github",
        "colab_type": "text"
      },
      "source": [
        "<a href=\"https://colab.research.google.com/github/abhiverse01/AI-Learning-Journey/blob/main/dataengineeringnotebook.ipynb\" target=\"_parent\"><img src=\"https://colab.research.google.com/assets/colab-badge.svg\" alt=\"Open In Colab\"/></a>"
      ]
    },
    {
      "cell_type": "markdown",
      "source": [
        "# Data Engineering & Analysis\n",
        "***Preparing data for ML Projects***\n",
        "\n",
        "> This repo enlists all the data pre-processing steps used for preparing data for ML Operations and Projects.\n",
        "<br><br>All the operations are well-established and illustrated while keeping in mind the best industry practices.\n",
        "\n",
        ">*Details:*<br>**Abhishek Shah**<br>AI/ML Professional<br>www.abhishekshah007@gmail.com<br>abhishek@inflancer.com\n"
      ],
      "metadata": {
        "id": "5Y49jc-LyQux"
      }
    },
    {
      "cell_type": "code",
      "execution_count": null,
      "metadata": {
        "id": "b47ytbPByOAq"
      },
      "outputs": [],
      "source": []
    }
  ]
}