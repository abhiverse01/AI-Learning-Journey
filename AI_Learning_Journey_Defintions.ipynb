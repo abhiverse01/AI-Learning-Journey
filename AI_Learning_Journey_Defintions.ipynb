{
  "nbformat": 4,
  "nbformat_minor": 0,
  "metadata": {
    "colab": {
      "provenance": [],
      "authorship_tag": "ABX9TyNvjglqiLb62FbKOoGAz0MS",
      "include_colab_link": true
    },
    "kernelspec": {
      "name": "python3",
      "display_name": "Python 3"
    },
    "language_info": {
      "name": "python"
    }
  },
  "cells": [
    {
      "cell_type": "markdown",
      "metadata": {
        "id": "view-in-github",
        "colab_type": "text"
      },
      "source": [
        "<a href=\"https://colab.research.google.com/github/abhiverse01/AI-Learning-Journey/blob/main/AI_Learning_Journey_Defintions.ipynb\" target=\"_parent\"><img src=\"https://colab.research.google.com/assets/colab-badge.svg\" alt=\"Open In Colab\"/></a>"
      ]
    },
    {
      "cell_type": "markdown",
      "source": [
        "# Important Terminology, Definitions, and its meaningful representation."
      ],
      "metadata": {
        "id": "1BFv698jf9P6"
      }
    },
    {
      "cell_type": "markdown",
      "source": [
        "#1. AI - Artificial Intelligence\n",
        "Ofcourse, You know this one. It stands for **Artificial Intelligence.**\n",
        "\n",
        "### Definition:\n",
        "**Artificial intelligence** is the simulation of human intelligence processes by machines, especially computer systems. These processes include learning (the acquisition of information and rules for using the information), reasoning (using rules to reach approximate or definite conclusions), and self-correction.\n",
        "(Source: TechTarget, 2024)\n",
        "\n",
        "### Key Components:\n",
        "*  Learning: This involves acquiring data and creating rules for how to turn the data into actionable information.\n",
        "\n",
        "*  Reasoning: This involves the ability to solve problems, make decisions, and create plans.\n",
        "\n",
        "*  Self-Correction: This involves the ability to automatically refine and improve algorithms based on data and experience.\n",
        "\n",
        "### Subfields:\n",
        "* Machine Learning: Algorithms that allow computers to learn from data and make decisions.\n",
        "\n",
        "* Natural Language Processing: Understanding and generating human language.\n",
        "\n",
        "* Robotics: Building machines that can perform tasks in the real world.\n",
        "\n",
        "* Computer Vision: Interpreting and making decisions based on visual input from the world.\n",
        "\n",
        "### Example:\n",
        "\n",
        "A chatbot that can understand and respond to customer queries. For instance, AI-based chatbots like those used by customer service departments can handle a wide range of questions and concerns by analyzing the user's input, processing the information, and providing appropriate responses.\n"
      ],
      "metadata": {
        "id": "zyZ2X8IIgNXW"
      }
    },
    {
      "cell_type": "markdown",
      "source": [
        "#2. Machine Learning (ML)\n",
        "\n",
        "### Definition:\n",
        "\n",
        "A subset of AI that involves the use of data and algorithms to imitate the way humans learn, gradually improving the system’s accuracy.\n",
        "\n",
        "### Key Components:\n",
        "* Data: The core of ML, used for training models.\n",
        "* Algorithms: Procedures or formulas for solving problems.\n",
        "* Training: The process of feeding data to the ML algorithm to learn from it.\n",
        "* Model: The result of the ML training process, which can make predictions or decisions based on new data.\n",
        "\n",
        "### Types:\n",
        "* Supervised Learning: Learning with labeled data.\n",
        "* Unsupervised Learning: Learning with unlabeled data.\n",
        "* Reinforcement Learning: Learning by interacting with an environment.\n",
        "\n",
        "### Example:\n",
        "\n",
        "Netflix’s recommendation system that suggests shows and movies based on users’ viewing history. The system uses machine learning algorithms to analyze viewing patterns and predict what users might like to watch next."
      ],
      "metadata": {
        "id": "Bs9btt_6NsIv"
      }
    },
    {
      "cell_type": "markdown",
      "source": [
        "# 3. Deep Learning\n",
        "\n",
        "###Definition:\n",
        "A type of ML that uses neural networks with many layers (deep neural networks) to model complex patterns in data.\n",
        "### Key Components:\n",
        "* Neural Networks: Models inspired by the human brain, consisting of interconnected units (neurons) that process information in layers.\n",
        "* Layers: Stages in the network where data is processed. Deeper layers allow the network to learn more complex patterns.\n",
        "* Activation Functions: Functions that introduce non-linearity into the model, enabling it to learn more complex relationships.\n",
        "\n",
        "### Example:\n",
        "Image recognition systems that can identify objects within pictures. For example, Facebook’s photo tagging feature uses deep learning to recognize and suggest tagging friends in photos."
      ],
      "metadata": {
        "id": "xYynTdSeONgY"
      }
    },
    {
      "cell_type": "markdown",
      "source": [
        "# 4. Neural Network\n",
        "### Definition:\n",
        "A series of algorithms that attempt to recognize underlying relationships in a set of data through a process that mimics the way the human brain operates.\n",
        "### Key Components:\n",
        "* Neurons: The basic units that process information.\n",
        "* Weights: Parameters within the network that are adjusted during training.\n",
        "* Biases: Parameters added to the inputs to adjust the output along with weights.\n",
        "* Activation Function: Determines the output of a neuron given an input or set of inputs.\n",
        "\n",
        "### Example:\n",
        "A neural network used in speech recognition to transcribe spoken words into text. These networks can learn to recognize patterns in speech signals and convert them to written language."
      ],
      "metadata": {
        "id": "8wnc01JDOlDb"
      }
    },
    {
      "cell_type": "markdown",
      "source": [
        "# 5. Natural Language Processing (NLP)\n",
        "### Definition:\n",
        "A branch of AI that helps computers understand, interpret, and respond to human language.\n",
        "### Key Components:\n",
        "* Tokenization: Splitting text into smaller units like words or sentences.\n",
        "* Parsing: Analyzing the grammatical structure of a sentence.\n",
        "* Named Entity Recognition (NER): Identifying and classifying entities in text into predefined categories such as names, dates, and places.\n",
        "* Sentiment Analysis: Determining the sentiment or emotion expressed in a piece of text.\n",
        "\n",
        "### Example:\n",
        "\n",
        "Siri or Alexa understanding and responding to voice commands. These systems use NLP to process and understand user queries and provide relevant responses."
      ],
      "metadata": {
        "id": "MayEHmtXO3t9"
      }
    },
    {
      "cell_type": "markdown",
      "source": [
        "# 6. Computer Vision\n",
        "### Definition:\n",
        "A field of AI that enables computers to interpret and make decisions based on visual data from the world.\n",
        "### Key Components:\n",
        "* Image Processing: Techniques for enhancing and manipulating images.\n",
        "* Object Detection: Identifying and locating objects within an image.\n",
        "* Image Classification: Assigning a label to an entire image.\n",
        "* Segmentation: Partitioning an image into multiple segments or regions.\n",
        "\n",
        "### Example:\n",
        "\n",
        "Self-driving cars recognizing and responding to road signs and obstacles. These cars use computer vision to analyze their surroundings and make driving decisions."
      ],
      "metadata": {
        "id": "FhNoO7V9QBo_"
      }
    },
    {
      "cell_type": "markdown",
      "source": [
        "#7. Reinforcement Learning\n",
        "### Definition:\n",
        "A type of ML where an agent learns to make decisions by performing actions and receiving rewards or penalties.\n",
        "### Key Components:\n",
        "* Agent: The learner or decision maker.\n",
        "Environment: Everything the agent interacts with.\n",
        "* Actions: All the possible moves the agent can make.\n",
        "Rewards: Feedback from the environment to evaluate actions.\n",
        "\n",
        "### Example:\n",
        "A robotic vacuum learning the layout of a house to clean more efficiently over time. The vacuum receives feedback on its cleaning performance and adjusts its behavior to improve over time."
      ],
      "metadata": {
        "id": "b9CDYPyxQim3"
      }
    },
    {
      "cell_type": "markdown",
      "source": [
        "#8. Supervised Learning\n",
        "### Definition:\n",
        "A type of ML where the model is trained on labeled data, meaning that each training example is paired with an output label.\n",
        "### Key Components:\n",
        "* Training Data: Labeled data used to train the model.\n",
        "* Features: Input variables used to make predictions.\n",
        "* Labels: The target output the model aims to predict.\n",
        "\n",
        "### Example:\n",
        "Email spam detection using a dataset of emails labeled as 'spam' or 'not spam'. The model learns to classify new emails based on patterns in the training data."
      ],
      "metadata": {
        "id": "jZK7UjSeQ_vp"
      }
    },
    {
      "cell_type": "code",
      "source": [],
      "metadata": {
        "id": "LgBVK3WkOMpv"
      },
      "execution_count": null,
      "outputs": []
    }
  ]
}