{
  "nbformat": 4,
  "nbformat_minor": 0,
  "metadata": {
    "colab": {
      "provenance": [],
      "authorship_tag": "ABX9TyMmaH4EPbd29V2THXG7Bho1",
      "include_colab_link": true
    },
    "kernelspec": {
      "name": "python3",
      "display_name": "Python 3"
    },
    "language_info": {
      "name": "python"
    }
  },
  "cells": [
    {
      "cell_type": "markdown",
      "metadata": {
        "id": "view-in-github",
        "colab_type": "text"
      },
      "source": [
        "<a href=\"https://colab.research.google.com/github/abhiverse01/AI-Learning-Journey/blob/main/AI_Learning_Journey_Defintions.ipynb\" target=\"_parent\"><img src=\"https://colab.research.google.com/assets/colab-badge.svg\" alt=\"Open In Colab\"/></a>"
      ]
    },
    {
      "cell_type": "markdown",
      "source": [
        "# Important Terminology, Definitions, and its meaningful representation."
      ],
      "metadata": {
        "id": "1BFv698jf9P6"
      }
    },
    {
      "cell_type": "markdown",
      "source": [
        "## 1. AI - Artificial Intelligence\n",
        "Ofcourse, You know this one. It stands for **Artificial Intelligence.**\n",
        "\n",
        "### Definition:\n",
        "Artificial intelligence is the simulation of human intelligence processes by machines, especially computer systems. Examples of AI applications include expert systems, natural language processing (NLP), speech recognition and machine vision.\n",
        "\n",
        "(Source: TechTarget, 2024)\n"
      ],
      "metadata": {
        "id": "zyZ2X8IIgNXW"
      }
    },
    {
      "cell_type": "code",
      "execution_count": null,
      "metadata": {
        "id": "X2Z-Z4Qef2y2"
      },
      "outputs": [],
      "source": []
    }
  ]
}