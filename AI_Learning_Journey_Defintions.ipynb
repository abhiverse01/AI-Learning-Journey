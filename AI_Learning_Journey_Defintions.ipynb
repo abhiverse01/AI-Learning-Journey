{
  "nbformat": 4,
  "nbformat_minor": 0,
  "metadata": {
    "colab": {
      "provenance": [],
      "authorship_tag": "ABX9TyOR/DkZDBVnDLwyWZnzSLec",
      "include_colab_link": true
    },
    "kernelspec": {
      "name": "python3",
      "display_name": "Python 3"
    },
    "language_info": {
      "name": "python"
    }
  },
  "cells": [
    {
      "cell_type": "markdown",
      "metadata": {
        "id": "view-in-github",
        "colab_type": "text"
      },
      "source": [
        "<a href=\"https://colab.research.google.com/github/abhiverse01/AI-Learning-Journey/blob/main/AI_Learning_Journey_Defintions.ipynb\" target=\"_parent\"><img src=\"https://colab.research.google.com/assets/colab-badge.svg\" alt=\"Open In Colab\"/></a>"
      ]
    },
    {
      "cell_type": "markdown",
      "source": [
        "# Important Terminology, Definitions, and its meaningful representation."
      ],
      "metadata": {
        "id": "1BFv698jf9P6"
      }
    },
    {
      "cell_type": "markdown",
      "source": [
        "#1. AI - Artificial Intelligence\n",
        "Ofcourse, You know this one. It stands for **Artificial Intelligence.**\n",
        "\n",
        "### Definition:\n",
        "**Artificial intelligence** is the simulation of human intelligence processes by machines, especially computer systems. These processes include learning (the acquisition of information and rules for using the information), reasoning (using rules to reach approximate or definite conclusions), and self-correction.\n",
        "(Source: TechTarget, 2024)\n",
        "\n",
        "### Key Components:\n",
        "*  Learning: This involves acquiring data and creating rules for how to turn the data into actionable information.\n",
        "\n",
        "*  Reasoning: This involves the ability to solve problems, make decisions, and create plans.\n",
        "\n",
        "*  Self-Correction: This involves the ability to automatically refine and improve algorithms based on data and experience.\n",
        "\n",
        "### Subfields:\n",
        "* Machine Learning: Algorithms that allow computers to learn from data and make decisions.\n",
        "\n",
        "* Natural Language Processing: Understanding and generating human language.\n",
        "\n",
        "* Robotics: Building machines that can perform tasks in the real world.\n",
        "\n",
        "* Computer Vision: Interpreting and making decisions based on visual input from the world.\n",
        "\n",
        "### Example:\n",
        "\n",
        "A chatbot that can understand and respond to customer queries. For instance, AI-based chatbots like those used by customer service departments can handle a wide range of questions and concerns by analyzing the user's input, processing the information, and providing appropriate responses.\n"
      ],
      "metadata": {
        "id": "zyZ2X8IIgNXW"
      }
    },
    {
      "cell_type": "markdown",
      "source": [
        "#2. Machine Learning (ML)\n",
        "\n",
        "### Definition:\n",
        "\n",
        "A subset of AI that involves the use of data and algorithms to imitate the way humans learn, gradually improving the system’s accuracy.\n",
        "\n",
        "### Key Components:\n",
        "* Data: The core of ML, used for training models.\n",
        "* Algorithms: Procedures or formulas for solving problems.\n",
        "* Training: The process of feeding data to the ML algorithm to learn from it.\n",
        "* Model: The result of the ML training process, which can make predictions or decisions based on new data.\n",
        "\n",
        "### Types:\n",
        "* Supervised Learning: Learning with labeled data.\n",
        "* Unsupervised Learning: Learning with unlabeled data.\n",
        "* Reinforcement Learning: Learning by interacting with an environment.\n",
        "\n",
        "### Example:\n",
        "\n",
        "Netflix’s recommendation system that suggests shows and movies based on users’ viewing history. The system uses machine learning algorithms to analyze viewing patterns and predict what users might like to watch next."
      ],
      "metadata": {
        "id": "Bs9btt_6NsIv"
      }
    },
    {
      "cell_type": "markdown",
      "source": [
        "# 3. Deep Learning\n",
        "\n",
        "###Definition:\n",
        "A type of ML that uses neural networks with many layers (deep neural networks) to model complex patterns in data.\n",
        "### Key Components:\n",
        "* Neural Networks: Models inspired by the human brain, consisting of interconnected units (neurons) that process information in layers.\n",
        "* Layers: Stages in the network where data is processed. Deeper layers allow the network to learn more complex patterns.\n",
        "* Activation Functions: Functions that introduce non-linearity into the model, enabling it to learn more complex relationships.\n",
        "\n",
        "### Example:\n",
        "Image recognition systems that can identify objects within pictures. For example, Facebook’s photo tagging feature uses deep learning to recognize and suggest tagging friends in photos."
      ],
      "metadata": {
        "id": "xYynTdSeONgY"
      }
    },
    {
      "cell_type": "markdown",
      "source": [
        "# 4. Neural Network\n",
        "### Definition:\n",
        "A series of algorithms that attempt to recognize underlying relationships in a set of data through a process that mimics the way the human brain operates.\n",
        "### Key Components:\n",
        "* Neurons: The basic units that process information.\n",
        "* Weights: Parameters within the network that are adjusted during training.\n",
        "* Biases: Parameters added to the inputs to adjust the output along with weights.\n",
        "* Activation Function: Determines the output of a neuron given an input or set of inputs.\n",
        "\n",
        "### Example:\n",
        "A neural network used in speech recognition to transcribe spoken words into text. These networks can learn to recognize patterns in speech signals and convert them to written language."
      ],
      "metadata": {
        "id": "8wnc01JDOlDb"
      }
    },
    {
      "cell_type": "markdown",
      "source": [
        "# 5. Natural Language Processing (NLP)\n",
        "### Definition:\n",
        "A branch of AI that helps computers understand, interpret, and respond to human language.\n",
        "### Key Components:\n",
        "* Tokenization: Splitting text into smaller units like words or sentences.\n",
        "* Parsing: Analyzing the grammatical structure of a sentence.\n",
        "* Named Entity Recognition (NER): Identifying and classifying entities in text into predefined categories such as names, dates, and places.\n",
        "* Sentiment Analysis: Determining the sentiment or emotion expressed in a piece of text.\n",
        "\n",
        "### Example:\n",
        "\n",
        "Siri or Alexa understanding and responding to voice commands. These systems use NLP to process and understand user queries and provide relevant responses."
      ],
      "metadata": {
        "id": "MayEHmtXO3t9"
      }
    },
    {
      "cell_type": "markdown",
      "source": [
        "# 6. Computer Vision\n",
        "### Definition:\n",
        "A field of AI that enables computers to interpret and make decisions based on visual data from the world.\n",
        "### Key Components:\n",
        "* Image Processing: Techniques for enhancing and manipulating images.\n",
        "* Object Detection: Identifying and locating objects within an image.\n",
        "* Image Classification: Assigning a label to an entire image.\n",
        "* Segmentation: Partitioning an image into multiple segments or regions.\n",
        "\n",
        "### Example:\n",
        "\n",
        "Self-driving cars recognizing and responding to road signs and obstacles. These cars use computer vision to analyze their surroundings and make driving decisions."
      ],
      "metadata": {
        "id": "FhNoO7V9QBo_"
      }
    },
    {
      "cell_type": "markdown",
      "source": [
        "#7. Reinforcement Learning\n",
        "### Definition:\n",
        "A type of ML where an agent learns to make decisions by performing actions and receiving rewards or penalties.\n",
        "### Key Components:\n",
        "* Agent: The learner or decision maker.\n",
        "Environment: Everything the agent interacts with.\n",
        "* Actions: All the possible moves the agent can make.\n",
        "Rewards: Feedback from the environment to evaluate actions.\n",
        "\n",
        "### Example:\n",
        "A robotic vacuum learning the layout of a house to clean more efficiently over time. The vacuum receives feedback on its cleaning performance and adjusts its behavior to improve over time."
      ],
      "metadata": {
        "id": "b9CDYPyxQim3"
      }
    },
    {
      "cell_type": "markdown",
      "source": [
        "#8. Supervised Learning\n",
        "### Definition:\n",
        "A type of ML where the model is trained on labeled data, meaning that each training example is paired with an output label.\n",
        "### Key Components:\n",
        "* Training Data: Labeled data used to train the model.\n",
        "* Features: Input variables used to make predictions.\n",
        "* Labels: The target output the model aims to predict.\n",
        "\n",
        "### Example:\n",
        "Email spam detection using a dataset of emails labeled as 'spam' or 'not spam'. The model learns to classify new emails based on patterns in the training data."
      ],
      "metadata": {
        "id": "jZK7UjSeQ_vp"
      }
    },
    {
      "cell_type": "markdown",
      "source": [
        "#9. Unsupervised Learning\n",
        "### Definition:\n",
        "A type of ML where the model is trained on unlabeled data and must find patterns and relationships within it.\n",
        "### Key Components:\n",
        "* Training Data: Unlabeled data used to train the model.\n",
        "* Clustering: Grouping similar data points together.\n",
        "* Dimensionality Reduction: Reducing the number of random variables under consideration.\n",
        "\n",
        "### Example:\n",
        "Customer segmentation in marketing to identify different customer groups based on purchasing behavior. The model identifies patterns and groups similar customers together."
      ],
      "metadata": {
        "id": "4CGg-eHveah9"
      }
    },
    {
      "cell_type": "markdown",
      "source": [
        "#10. Semi-supervised Learning\n",
        "### Definition:\n",
        "A hybrid approach where the model is trained on a small amount of labeled data and a larger amount of unlabeled data.\n",
        "### Key Components:\n",
        "* Labeled Data: A small portion of data with labels.\n",
        "* Unlabeled Data: A larger portion of data without labels.\n",
        "\n",
        "### Example:\n",
        "Image classification where a small portion of images are labeled, and the model uses them to label the rest. This approach leverages both labeled and unlabeled data to improve accuracy."
      ],
      "metadata": {
        "id": "S2Qgq1ldemtv"
      }
    },
    {
      "cell_type": "markdown",
      "source": [
        "#11. Transfer Learning\n",
        "### Definition:\n",
        "A technique where a pre-trained model is used as a starting point for a new but related task.\n",
        "### Key Components:\n",
        "* Pre-trained Model: A model that has been previously trained on a large dataset.\n",
        "* Fine-tuning: Adjusting the pre-trained model to fit the new task.\n",
        "\n",
        "### Example:\n",
        "Using a pre-trained image recognition model to identify specific types of animals. The pre-trained model has already learned to recognize general features in images, and fine-tuning it allows it to specialize in recognizing specific animals."
      ],
      "metadata": {
        "id": "AKVb8nj7epUA"
      }
    },
    {
      "cell_type": "markdown",
      "source": [
        "#12. Generative Adversarial Networks (GANs)\n",
        "### Definition:\n",
        "A class of ML frameworks where two neural networks, a generator and a discriminator, are trained simultaneously through adversarial processes.\n",
        "### Key Components:\n",
        "* Generator: Creates fake data that resembles the real data.\n",
        "* Discriminator: Evaluates the data and determines whether it is real or fake.\n",
        "* Adversarial Training: The generator and discriminator compete against each other to improve.\n",
        "\n",
        "### Example:\n",
        "Creating realistic-looking synthetic images or art. The generator creates images, and the discriminator learns to distinguish between real and fake images, improving the generator's ability to create realistic images."
      ],
      "metadata": {
        "id": "F-422MOneufN"
      }
    },
    {
      "cell_type": "markdown",
      "source": [
        "#13. Convolutional Neural Network (CNN)\n",
        "### Definition:\n",
        "A type of deep neural network primarily used for processing structured grid data like images.\n",
        "### Key Components:\n",
        "* Convolutional Layers: Apply filters to the input data to extract features.\n",
        "* Pooling Layers: Reduce the spatial dimensions of the data, retaining important information.\n",
        "* Fully Connected Layers: Combine features to make final predictions.\n",
        "\n",
        "### Example:\n",
        "Recognizing faces in photos. CNNs can learn to identify facial features and distinguish between different faces."
      ],
      "metadata": {
        "id": "Ju4anfdxevZP"
      }
    },
    {
      "cell_type": "markdown",
      "source": [
        "#14. Recurrent Neural Network (RNN)\n",
        "### Definition:\n",
        "A type of neural network designed for sequence data processing, such as time series or natural language.\n",
        "### Key Components:\n",
        "* Hidden State: Maintains a memory of previous inputs in the sequence.\n",
        "* Recurrent Layers: Process each element of the sequence, updating the hidden state.\n",
        "\n",
        "### Example:\n",
        "Predicting the next word in a sentence. RNNs can learn the context of a sentence and predict the most likely next word based on previous words."
      ],
      "metadata": {
        "id": "KwaeIZq8ey2p"
      }
    },
    {
      "cell_type": "markdown",
      "source": [
        "#15. Long Short-Term Memory (LSTM)\n",
        "### Definition:\n",
        "A type of RNN designed to remember information for long periods.\n",
        "### Key Components:\n",
        "* Cell State: Maintains long-term memory.\n",
        "Forget Gate: Decides what information to discard.\n",
        "* Input Gate: Decides what new information to store.\n",
        "* Output Gate: Decides what information to output.\n",
        "\n",
        "### Example:\n",
        "Language translation applications. LSTMs can maintain context over long sentences, improving translation accuracy."
      ],
      "metadata": {
        "id": "-V1P801se08Y"
      }
    },
    {
      "cell_type": "markdown",
      "source": [
        "#16. K-Nearest Neighbors (KNN)\n",
        "### Definition:\n",
        "A simple, instance-based learning algorithm where the output is a class membership.\n",
        "### Key Components:\n",
        "* Distance Metric: Measures similarity between data points.\n",
        "* k: The number of neighbors to consider.\n",
        "\n",
        "### Example:\n",
        "Classifying a new data point based on the majority class of its k-nearest neighbors. For example, identifying whether a new email is spam or not based on the closest emails in the dataset."
      ],
      "metadata": {
        "id": "CLeEBFdKe3Xv"
      }
    },
    {
      "cell_type": "markdown",
      "source": [
        "#17. Support Vector Machine (SVM)\n",
        "### Definition:\n",
        "A supervised learning model that analyzes data for classification and regression analysis.\n",
        "### Key Components:\n",
        "* Hyperplane: The decision boundary that separates different classes.\n",
        "* Support Vectors: Data points closest to the hyperplane that influence its position.\n",
        "\n",
        "### Example:\n",
        "Handwritten digit recognition. SVMs can classify digits based on their pixel values by finding the optimal hyperplane that separates different digits."
      ],
      "metadata": {
        "id": "_pAmhFSNe5sy"
      }
    },
    {
      "cell_type": "markdown",
      "source": [
        "#18. Decision Tree\n",
        "###Definition:\n",
        "A decision support tool that uses a tree-like model of decisions and their possible consequences.\n",
        "### Key Components:\n",
        "* Nodes: Represent tests on attributes.\n",
        "Branches: Represent the outcome of the test.\n",
        "* Leaves: Represent class labels or outcomes.\n",
        "\n",
        "### Example:\n",
        "A decision tree used to determine loan eligibility based on various financial factors. Each node represents a test on a financial attribute, and the leaves represent the decision to approve or reject the loan."
      ],
      "metadata": {
        "id": "NVuiF0WDe8KO"
      }
    },
    {
      "cell_type": "markdown",
      "source": [
        "#19. Random Forest\n",
        "### Definition:\n",
        "An ensemble learning method that operates by constructing multiple decision trees during training.\n",
        "### Key Components:\n",
        "* Multiple Trees: Each tree is trained on a different subset of the data.\n",
        "* Voting: The final prediction is based on the majority vote of all trees.\n",
        "\n",
        "### Example:\n",
        "Predicting the likelihood of disease based on medical history. Random forests can improve accuracy by reducing overfitting, as the ensemble of trees provides a more robust prediction.*italicised text*"
      ],
      "metadata": {
        "id": "2ivybhe5e-Sl"
      }
    },
    {
      "cell_type": "markdown",
      "source": [
        "#20. Gradient Boosting\n",
        "### Definition:\n",
        "A machine learning technique for regression and classification problems that builds a model in a stage-wise fashion.\n",
        "### Key Components:\n",
        "* Weak Learners: Simple models like decision trees.\n",
        "* Additive Modeling: Each new model corrects the errors of the previous models.\n",
        "\n",
        "### Example:\n",
        "Predicting house prices. Gradient boosting can iteratively improve predictions by focusing on the errors made by previous models."
      ],
      "metadata": {
        "id": "PD1obiFbfDx2"
      }
    },
    {
      "cell_type": "markdown",
      "source": [
        "#21. Artificial Neural Network (ANN)\n",
        "### Definition:\n",
        "A computational model based on the structure and functions of biological neural networks.\n",
        "### Key Components:\n",
        "* Input Layer: Receives the input data.\n",
        "* Hidden Layers: Process the input data through a series of transformations.\n",
        "* Output Layer: Produces the final output.\n",
        "\n",
        "### Example:\n",
        "Stock market prediction. ANNs can learn patterns in historical stock prices and predict future trends."
      ],
      "metadata": {
        "id": "oqR2ljw6fPng"
      }
    },
    {
      "cell_type": "markdown",
      "source": [
        "#22. Hyperparameters\n",
        "### Definition:\n",
        "The parameters whose values are set before the learning process begins.\n",
        "### Key Components:\n",
        "* Learning Rate: Controls how much the model is adjusted during training.\n",
        "* Batch Size: Number of training examples used in one iteration.\n",
        "* Number of Epochs: Number of complete passes through the training dataset.\n",
        "\n",
        "###Example:\n",
        "Adjusting the learning rate and number of epochs to optimize the training of a neural network."
      ],
      "metadata": {
        "id": "yLK2p3CBfRmf"
      }
    },
    {
      "cell_type": "markdown",
      "source": [
        "#23. Epoch\n",
        "### Definition:\n",
        "One complete pass through the entire training dataset.\n",
        "### Key Components:\n",
        "* Iterations: The number of times the model is updated in one epoch.\n",
        "* Training Data: The data used to train the model.\n",
        "\n",
        "### Example:\n",
        "If a dataset has 1000 samples and the batch size is 100, then an epoch involves 10 iterations. The model processes all 1000 samples once during an epoch."
      ],
      "metadata": {
        "id": "MpXZ_QLjfTea"
      }
    },
    {
      "cell_type": "markdown",
      "source": [
        "#24. Overfitting\n",
        "### Definition:\n",
        "A modeling error which occurs when a function is too closely fit to a limited set of data points.\n",
        "### Key Components:\n",
        "* Complexity: The model is too complex for the amount of data available.\n",
        "* Generalization: The model performs well on training data but poorly on new, unseen data.\n",
        "\n",
        "### Example:\n",
        "A model that memorizes the training data rather than learning general patterns, resulting in high accuracy on training data but low accuracy on test data."
      ],
      "metadata": {
        "id": "32HfYHgkfVjp"
      }
    },
    {
      "cell_type": "markdown",
      "source": [
        "#25. Underfitting\n",
        "### Definition:\n",
        "A scenario where a model is too simple to capture the underlying patterns in the data.\n",
        "### Key Components:\n",
        "* Simplicity: The model lacks the complexity needed to capture the data patterns.\n",
        "* Performance: The model performs poorly on both training and test data.\n",
        "\n",
        "### Example:\n",
        "A linear regression model used for non-linear data, resulting in poor performance because the model cannot capture the complex relationships."
      ],
      "metadata": {
        "id": "qb9lXQiFfXk8"
      }
    },
    {
      "cell_type": "markdown",
      "source": [
        "#26. Bias-Variance Tradeoff\n",
        "### Definition:\n",
        "The property of a model that the error due to bias and the error due to variance affects the model's performance.\n",
        "### Key Components:\n",
        "* Bias: The error introduced by approximating a real-world problem, which may be too simplified.\n",
        "* Variance: The error introduced by the model's sensitivity to small fluctuations in the training set.\n",
        "\n",
        "### Example:\n",
        "Adjusting a model to balance between underfitting (high bias) and overfitting (high variance) to achieve optimal performance."
      ],
      "metadata": {
        "id": "8Yhxl3XCfZdZ"
      }
    },
    {
      "cell_type": "markdown",
      "source": [
        "#27. Activation Function\n",
        "### Definition:\n",
        "A function used in neural networks to introduce non-linearity into the model.\n",
        "### Key Components:\n",
        "* Non-linearity: Allows the network to learn complex patterns.\n",
        "* Types: Common activation functions include ReLU, Sigmoid, and Tanh.\n",
        "\n",
        "### Example:\n",
        "Using the ReLU activation function in a neural network to improve learning performance by allowing the network to learn non-linear relationships."
      ],
      "metadata": {
        "id": "MjVpjJSHfbev"
      }
    },
    {
      "cell_type": "markdown",
      "source": [
        "#28. Backpropagation\n",
        "### Definition:\n",
        "A method used in artificial neural networks to calculate the gradient of the loss function and update the weights.\n",
        "### Key Components:\n",
        "* Gradient Descent: An optimization algorithm used to minimize the loss function.\n",
        "* Loss Function: A measure of how well the model's predictions match the actual data.\n",
        "\n",
        "### Example:\n",
        "Training a neural network to reduce error through iterative updates. The backpropagation algorithm calculates the gradients and updates the weights to minimize the loss function."
      ],
      "metadata": {
        "id": "ZuaRWuarfdVG"
      }
    },
    {
      "cell_type": "markdown",
      "source": [
        "#29. Feature Engineering\n",
        "### Definition:\n",
        "The process of using domain knowledge to extract features from raw data to improve model performance.\n",
        "### Key Components:\n",
        "* Feature Selection: Choosing relevant features for the model.\n",
        "* Feature Creation: Creating new features from existing data.\n",
        "\n",
        "### Example:\n",
        "Creating a new feature 'age group' from the 'age' attribute. This can help the model capture patterns related to different age groups."
      ],
      "metadata": {
        "id": "I5GDEWC1fe76"
      }
    },
    {
      "cell_type": "markdown",
      "source": [
        "#30. Dimensionality Reduction\n",
        "### Definition:\n",
        "The process of reducing the number of random variables under consideration.\n",
        "### Key Components:\n",
        "* Techniques: Common techniques include Principal Component Analysis (PCA) and t-Distributed Stochastic Neighbor Embedding (t-SNE).\n",
        "* Goal: Simplify the model and reduce computational cost.\n",
        "\n",
        "### Example:\n",
        "Using PCA to reduce the number of features in a dataset, making it easier to visualize and analyze."
      ],
      "metadata": {
        "id": "47xSZKLffgku"
      }
    },
    {
      "cell_type": "markdown",
      "source": [
        "31. Principal Component Analysis (PCA)\n",
        "Definition: A technique used to emphasize variation and bring out strong patterns in a dataset.\n",
        "Key Components:\n",
        "Principal Components: New variables that are linear combinations of the original variables.\n",
        "Variance: Each principal component captures as much variance as possible.\n",
        "Example: Visualizing high-dimensional data in 2D or 3D plots. PCA reduces the number of dimensions while retaining important information."
      ],
      "metadata": {
        "id": "Pmb4iHo_fifR"
      }
    },
    {
      "cell_type": "markdown",
      "source": [
        "32. Clustering\n",
        "Definition: A type of unsupervised learning where data is grouped based on similarity.\n",
        "Key Components:\n",
        "Centroids: Represent the center of each cluster.\n",
        "Distance Metric: Measures the similarity between data points.\n",
        "Example: Grouping customers based on purchasing behavior. The model identifies patterns and groups similar customers together."
      ],
      "metadata": {
        "id": "S_n8kZvIfkbc"
      }
    },
    {
      "cell_type": "markdown",
      "source": [
        "33. Regression\n",
        "Definition: A type of predictive modeling technique which investigates the relationship between a dependent (target) and independent (predictor) variable.\n",
        "Key Components:\n",
        "Linear Regression: Models the relationship as a straight line.\n",
        "Non-linear Regression: Models the relationship using a non-linear function.\n",
        "Example: Predicting house prices based on various features like size, location, etc. Regression models can predict continuous values based on input features."
      ],
      "metadata": {
        "id": "Nyq0pqXWfmXU"
      }
    },
    {
      "cell_type": "markdown",
      "source": [
        "34. Classification\n",
        "Definition: A type of predictive modeling technique which assigns a class label to a set of observations.\n",
        "Key Components:\n",
        "Classes: The different categories or labels.\n",
        "Decision Boundary: The boundary that separates different classes.\n",
        "Example: Classifying emails as 'spam' or 'not spam'. Classification models can categorize new data points based on learned patterns."
      ],
      "metadata": {
        "id": "FJCiu6L_foBd"
      }
    },
    {
      "cell_type": "markdown",
      "source": [
        "35. Anomaly Detection\n",
        "Definition: Identifying rare items, events, or observations which raise suspicions by differing significantly from the majority of the data.\n",
        "Key Components:\n",
        "Normal Behavior: The standard pattern of data.\n",
        "Anomalies: Data points that deviate from normal behavior.\n",
        "Example: Fraud detection in credit card transactions. Anomaly detection models can identify unusual patterns that may indicate fraudulent activity."
      ],
      "metadata": {
        "id": "XiTAWdVxfpvA"
      }
    },
    {
      "cell_type": "markdown",
      "source": [
        "36. Bayesian Networks\n",
        "Definition: A probabilistic graphical model that represents a set of variables and their conditional dependencies.\n",
        "Key Components:\n",
        "Nodes: Represent variables.\n",
        "Edges: Represent conditional dependencies.\n",
        "Inference: Calculating the probability of a variable given the known values of other variables.\n",
        "Example: Risk prediction models in healthcare. Bayesian networks can model the relationships between different risk factors and predict the likelihood of a disease."
      ],
      "metadata": {
        "id": "8rZiDgfjfrhT"
      }
    },
    {
      "cell_type": "markdown",
      "source": [
        "37. Markov Chains\n",
        "Definition: A stochastic process that transitions from one state to another on a state space.\n",
        "Key Components:\n",
        "States: Possible conditions or situations.\n",
        "Transition Probabilities: The likelihood of moving from one state to another.\n",
        "Example: Predicting weather conditions based on previous day’s weather. Markov chains can model sequences of events where the probability of each event depends only on the state attained in the previous event."
      ],
      "metadata": {
        "id": "gLhLY5kkftcB"
      }
    },
    {
      "cell_type": "markdown",
      "source": [
        "38. Q-Learning\n",
        "Definition: A reinforcement learning algorithm that aims to learn the value of an action in a particular state.\n",
        "Key Components:\n",
        "Q-Values: Represent the value of taking a particular action in a given state.\n",
        "Policy: The strategy used by the agent to determine actions based on Q-values.\n",
        "\n",
        "Example: Training a robot to navigate a maze by learning the best actions to take at each step. Q-learning helps the robot learn the optimal path by maximizing the cumulative reward."
      ],
      "metadata": {
        "id": "lvItVk7sfvTO"
      }
    },
    {
      "cell_type": "markdown",
      "source": [
        "39. Perceptron\n",
        "Definition: The simplest type of artificial neural network, consisting of a single layer of weights.\n",
        "Key Components:\n",
        "Inputs: Features of the data.\n",
        "Weights: Parameters that are adjusted during training.\n",
        "Activation Function: Determines the output based on the weighted sum of inputs.\n",
        "Example: A binary classifier used to predict whether an email is spam or not spam. The perceptron learns to classify inputs based on their features."
      ],
      "metadata": {
        "id": "XlkVJb1Gf0MQ"
      }
    },
    {
      "cell_type": "code",
      "source": [],
      "metadata": {
        "id": "LgBVK3WkOMpv"
      },
      "execution_count": null,
      "outputs": []
    }
  ]
}